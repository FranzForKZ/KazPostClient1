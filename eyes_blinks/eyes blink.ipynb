{
 "cells": [
  {
   "cell_type": "code",
   "execution_count": 13,
   "metadata": {
    "collapsed": false
   },
   "outputs": [
    {
     "data": {
      "text/html": [
       "<style>.container { width:100% !important; }</style>"
      ]
     },
     "metadata": {},
     "output_type": "execute_result"
    }
   ],
   "source": [
    "import numpy as np\n",
    "import cv2\n",
    "from skimage import io\n",
    "from PIL import Image\n",
    "from IPython.core.display import display, HTML\n",
    "from skimage.transform import resize\n",
    "from skimage import io\n",
    "from os import listdir\n",
    "from os.path import isfile, join\n",
    "import pandas as pd\n",
    "import matplotlib.pyplot as plt\n",
    "from sklearn import cross_validation\n",
    "from sklearn import datasets, svm, metrics\n",
    "from sklearn.preprocessing import StandardScaler\n",
    "import numpy as np\n",
    "from sklearn.metrics import roc_auc_score\n",
    "\n",
    "display(HTML(\"<style>.container { width:100% !important; }</style>\"))\n",
    "%matplotlib inline"
   ]
  },
  {
   "cell_type": "code",
   "execution_count": 14,
   "metadata": {
    "collapsed": true
   },
   "outputs": [],
   "source": [
    "# load models \n",
    "face_cascade = cv2.CascadeClassifier(\"/home/masta/Downloads/opencv-2.4.11/data/haarcascades/haarcascade_frontalface_default.xml\")\n",
    "eye_cascade = cv2.CascadeClassifier(\"/home/masta/Downloads/opencv-2.4.11/data/haarcascades/haarcascade_lefteye_2splits.xml\")\n",
    "recognizer = cv2.createLBPHFaceRecognizer()\n",
    "\n",
    "# classificator\n",
    "with open('/home/masta/Downloads/Dataset_A_Eye_Images/closed_open_eyes.pkl', 'rb') as fid:\n",
    "    clf2 = cPickle.load(fid)\n",
    "# scaller\n",
    "with open('/home/masta/Downloads/Dataset_A_Eye_Images/StSc.pkl', 'rb') as sc:\n",
    "    StSc = cPickle.load(sc)"
   ]
  },
  {
   "cell_type": "code",
   "execution_count": 18,
   "metadata": {
    "collapsed": true
   },
   "outputs": [],
   "source": [
    "# prevent some cv2 artifacts\n",
    "def eyes_selection(eyes):\n",
    "    eyes_checked = []\n",
    "    for (ex1,ey1,ew1,eh1) in eyes:\n",
    "        for (ex2,ey2,ew2,eh2) in eyes:\n",
    "            if (0.7 < (float((ew1)*(eh1))/((ew2)*(eh2))) < 1.3) and\\\n",
    "            (0.7 < float(ew1)/(ew2) < 1.3) and\\\n",
    "            (0.7 < float(eh1)/(eh2) < 1.3) and\\\n",
    "            (ex1 != ex2) and\\\n",
    "            (min(ey1+eh1,ey2+eh2)-max(ey1, ey2) > min(eh1,eh2)/2.5) and\\\n",
    "            ([ex1,ey1,ew1,eh1] not in eyes_checked):\n",
    "                eyes_checked.append([ex1,ey1,ew1,eh1])\n",
    "    return eyes_checked\n",
    "\n",
    "# main function \n",
    "def closed_open_eyes_detection(img):\n",
    "    token = 0\n",
    "    gray = cv2.cvtColor(img, cv2.COLOR_BGR2GRAY)\n",
    "    faces = face_cascade.detectMultiScale(gray, 1.3, 5)\n",
    "    for (x,y,w,h) in faces:\n",
    "        roi_gray = gray[y:y+h, x:x+w]\n",
    "        roi_color = img[y:y+h, x:x+w]\n",
    "        eyes = eye_cascade.detectMultiScale(roi_gray)\n",
    "        eyes = eyes_selection(eyes)\n",
    "        for (ex,ey,ew,eh) in eyes:\n",
    "            if clf.predict(StSc.transform(resize(roi_gray[ey:ey+eh, ex:ex+ew], (28, 28)).reshape(784))) != 1:\n",
    "                token += 1\n",
    "    if token > 0: \n",
    "        return 'closed'\n",
    "    else: \n",
    "        return 'open'"
   ]
  },
  {
   "cell_type": "code",
   "execution_count": 19,
   "metadata": {
    "collapsed": true
   },
   "outputs": [],
   "source": [
    "# Demo\n",
    "import warnings\n",
    "warnings.filterwarnings('ignore')\n",
    "cap = cv2.VideoCapture(0)\n",
    "\n",
    "i = 0\n",
    "\n",
    "while i < 100:\n",
    "    i += 1\n",
    "    ret, img = cap.read()\n",
    "    gray = cv2.cvtColor(img, cv2.COLOR_BGR2GRAY)\n",
    "    faces = face_cascade.detectMultiScale(gray, 1.3, 5)\n",
    "\n",
    "    for (x,y,w,h) in faces:\n",
    "        cv2.rectangle(img,(x,y),(x+w,y+h),(255,0,0),2)\n",
    "        roi_gray = gray[y:y+h, x:x+w]\n",
    "        roi_color = img[y:y+h, x:x+w]\n",
    "        \n",
    "        eyes = eye_cascade.detectMultiScale(roi_gray)\n",
    "        eyes = eyes_selection(eyes)\n",
    "        for (ex,ey,ew,eh) in eyes:\n",
    "            cv2.rectangle(roi_color,(ex,ey),(ex+ew,ey+eh),(0,255,0),2)\n",
    "            if clf.predict(StSc.transform(resize(roi_gray[ey:ey+eh, ex:ex+ew], (28, 28)).reshape(784))) == 1:\n",
    "                cv2.putText(roi_color,'Open',(ex,ey), 1,1, (255,255,255))\n",
    "            else:\n",
    "                cv2.putText(roi_color,'Closed',(ex,ey), 1,1, (255,255,255))\n",
    "\n",
    "    cv2.imshow('img',img)\n",
    "    k = cv2.waitKey(30) & 0xff\n",
    "    if k == 27:\n",
    "        break\n",
    "\n",
    "cap.release()\n",
    "cv2.destroyAllWindows()"
   ]
  },
  {
   "cell_type": "code",
   "execution_count": 2,
   "metadata": {
    "collapsed": true
   },
   "outputs": [],
   "source": [
    "#Train | Test data loading\n",
    "\n",
    "from skimage import io\n",
    "import numpy as np\n",
    "import cv2\n",
    "from os import listdir\n",
    "from os.path import isfile, join\n",
    "path = '/home/masta/Downloads/Dataset_A_Eye_Images/new_closed/'\n",
    "  \n",
    "closed_eyes_train = [f for f in listdir(path) if isfile(join(path, f))]\n",
    "closed_eyes_data = list([])\n",
    "for i in closed_eyes_train:\n",
    "    img = io.imread(path + i)\n",
    "    gray = cv2.cvtColor(img, cv2.COLOR_BGR2GRAY)\n",
    "    faces = face_cascade.detectMultiScale(gray, 1.3, 5)\n",
    "    for (x,y,w,h) in faces:\n",
    "        roi_gray = gray[y:y+h, x:x+w]\n",
    "        eyes = eye_cascade.detectMultiScale(roi_gray)\n",
    "        for (ex1,ey1,ew1,eh1) in eyes:\n",
    "            if len((ex1,ey1,ew1,eh1))>0:\n",
    "                closed_eyes_data.append(resize(roi_gray[ey1:ey1+eh1, ex1:ex1+ew1], (28, 28)).reshape(784))\n",
    "                closed_eyes_data.append(resize(cv2.flip(roi_gray[ey1:ey1+eh1, ex1:ex1+ew1],1), (28, 28)).reshape(784))\n",
    "\n",
    "closed_target = np.empty(len(closed_eyes_data))\n",
    "closed_target.fill(0)\n",
    "\n",
    "path = '/home/masta/Downloads/Dataset_A_Eye_Images/new_open/'\n",
    "open_eyes_train = [f for f in listdir(path) if isfile(join(path, f))]\n",
    "open_eyes_data = list([])\n",
    "for i in open_eyes_train:\n",
    "    img = io.imread(path + i)\n",
    "    gray = cv2.cvtColor(img, cv2.COLOR_BGR2GRAY)\n",
    "    faces = face_cascade.detectMultiScale(gray, 1.3, 5)\n",
    "    for (x,y,w,h) in faces:\n",
    "        roi_gray = gray[y:y+h, x:x+w]\n",
    "        eyes = eye_cascade.detectMultiScale(roi_gray)\n",
    "        for (ex1,ey1,ew1,eh1) in eyes:\n",
    "            if len((ex1,ey1,ew1,eh1))>0:\n",
    "                open_eyes_data.append(resize(roi_gray[ey1:ey1+eh1, ex1:ex1+ew1], (28, 28)).reshape(784))\n",
    "\n",
    "\n",
    "open_target = np.empty(len(open_eyes_data))\n",
    "open_target.fill(1)\n",
    "\n",
    "full_data = np.append(closed_eyes_data,open_eyes_data, axis = 0)\n",
    "target = np.append(closed_target,open_target, axis = 0)"
   ]
  },
  {
   "cell_type": "code",
   "execution_count": 3,
   "metadata": {
    "collapsed": false
   },
   "outputs": [
    {
     "name": "stdout",
     "output_type": "stream",
     "text": [
      "ROC AUC: 0.94\n",
      "Accuracy: 0.94 (+/- 0.03)\n"
     ]
    }
   ],
   "source": [
    "# SVM learning\n",
    "import pandas as pd\n",
    "import matplotlib.pyplot as plt\n",
    "from sklearn import cross_validation\n",
    "from sklearn import datasets, svm, metrics\n",
    "from sklearn.preprocessing import StandardScaler\n",
    "import numpy as np\n",
    "from sklearn.metrics import roc_auc_score\n",
    "\n",
    "X = full_data\n",
    "StSc = StandardScaler().fit(X)\n",
    "X = StSc.transform(X)\n",
    "y = target\n",
    "X_train, X_test, y_train, y_test = cross_validation.train_test_split(X, y, test_size=0.3, random_state=42)\n",
    "\n",
    "clf = svm.SVC(kernel='linear', gamma=0.01)\n",
    "\n",
    "clf.fit(X_train, y_train)\n",
    "scores = cross_validation.cross_val_score(clf, X, y, cv=5)\n",
    "\n",
    "print (\"ROC AUC: %0.2f\" % roc_auc_score(y_test, clf.predict(X_test)))\n",
    "print(\"Accuracy: %0.2f (+/- %0.2f)\" % (scores.mean(), scores.std() * 2))"
   ]
  },
  {
   "cell_type": "code",
   "execution_count": 11,
   "metadata": {
    "collapsed": true
   },
   "outputs": [],
   "source": [
    "import cPickle\n",
    "# save the classifier:\n",
    "with open('/home/masta/Downloads/Dataset_A_Eye_Images/closed_open_eyes.pkl', 'wb') as fid:\n",
    "    cPickle.dump(clf, fid)\n",
    "    \n",
    "# save the scaller:\n",
    "with open('/home/masta/Downloads/Dataset_A_Eye_Images/StSc.pkl', 'wb') as fid:\n",
    "    cPickle.dump(StSc, fid)"
   ]
  }
 ],
 "metadata": {
  "anaconda-cloud": {},
  "kernelspec": {
   "display_name": "Python [default]",
   "language": "python",
   "name": "python2"
  },
  "language_info": {
   "codemirror_mode": {
    "name": "ipython",
    "version": 2
   },
   "file_extension": ".py",
   "mimetype": "text/x-python",
   "name": "python",
   "nbconvert_exporter": "python",
   "pygments_lexer": "ipython2",
   "version": "2.7.12"
  }
 },
 "nbformat": 4,
 "nbformat_minor": 0
}
